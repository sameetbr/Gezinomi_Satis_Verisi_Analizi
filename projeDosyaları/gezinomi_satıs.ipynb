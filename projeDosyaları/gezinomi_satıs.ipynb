{
 "cells": [
  {
   "cell_type": "code",
   "execution_count": 151,
   "id": "0b3d25a6-d46b-4f2b-8d5f-fe9271ea9e20",
   "metadata": {},
   "outputs": [],
   "source": [
    "import pandas as pd\n",
    "import numpy as np\n",
    "import matplotlib.pyplot as plt\n",
    "import seaborn as sns"
   ]
  },
  {
   "cell_type": "code",
   "execution_count": 153,
   "id": "05f3a441-16d4-4b7b-89ea-c36c8b5a4bf8",
   "metadata": {},
   "outputs": [],
   "source": [
    "df = pd.read_csv(\"data/miuul_gezinomi.csv\")"
   ]
  },
  {
   "cell_type": "code",
   "execution_count": 155,
   "id": "08f795db-727c-4e5a-aaa2-9f00110080d6",
   "metadata": {},
   "outputs": [
    {
     "data": {
      "text/plain": [
       "(59164, 9)"
      ]
     },
     "execution_count": 155,
     "metadata": {},
     "output_type": "execute_result"
    }
   ],
   "source": [
    "df.shape"
   ]
  },
  {
   "cell_type": "code",
   "execution_count": 157,
   "id": "55fb2615-1e9c-4222-af59-ae686347954e",
   "metadata": {},
   "outputs": [
    {
     "data": {
      "text/html": [
       "<div>\n",
       "<style scoped>\n",
       "    .dataframe tbody tr th:only-of-type {\n",
       "        vertical-align: middle;\n",
       "    }\n",
       "\n",
       "    .dataframe tbody tr th {\n",
       "        vertical-align: top;\n",
       "    }\n",
       "\n",
       "    .dataframe thead th {\n",
       "        text-align: right;\n",
       "    }\n",
       "</style>\n",
       "<table border=\"1\" class=\"dataframe\">\n",
       "  <thead>\n",
       "    <tr style=\"text-align: right;\">\n",
       "      <th></th>\n",
       "      <th>SaleId</th>\n",
       "      <th>SaleDate</th>\n",
       "      <th>CheckInDate</th>\n",
       "      <th>Price</th>\n",
       "      <th>ConceptName</th>\n",
       "      <th>SaleCityName</th>\n",
       "      <th>CInDay</th>\n",
       "      <th>SaleCheckInDayDiff</th>\n",
       "      <th>Seasons</th>\n",
       "    </tr>\n",
       "  </thead>\n",
       "  <tbody>\n",
       "    <tr>\n",
       "      <th>0</th>\n",
       "      <td>415122</td>\n",
       "      <td>2022-12-03 00:00:00</td>\n",
       "      <td>2022-12-03 00:00:00</td>\n",
       "      <td>79.304029</td>\n",
       "      <td>Herşey Dahil</td>\n",
       "      <td>Antalya</td>\n",
       "      <td>Saturday</td>\n",
       "      <td>0</td>\n",
       "      <td>Low</td>\n",
       "    </tr>\n",
       "    <tr>\n",
       "      <th>1</th>\n",
       "      <td>415103</td>\n",
       "      <td>2022-12-03 00:00:00</td>\n",
       "      <td>2022-12-03 00:00:00</td>\n",
       "      <td>45.970696</td>\n",
       "      <td>Yarım Pansiyon</td>\n",
       "      <td>Antalya</td>\n",
       "      <td>Saturday</td>\n",
       "      <td>0</td>\n",
       "      <td>Low</td>\n",
       "    </tr>\n",
       "    <tr>\n",
       "      <th>2</th>\n",
       "      <td>404034</td>\n",
       "      <td>2022-09-12 00:00:00</td>\n",
       "      <td>2022-09-13 00:00:00</td>\n",
       "      <td>77.838828</td>\n",
       "      <td>Herşey Dahil</td>\n",
       "      <td>Antalya</td>\n",
       "      <td>Tuesday</td>\n",
       "      <td>1</td>\n",
       "      <td>High</td>\n",
       "    </tr>\n",
       "    <tr>\n",
       "      <th>3</th>\n",
       "      <td>415094</td>\n",
       "      <td>2022-12-03 00:00:00</td>\n",
       "      <td>2022-12-10 00:00:00</td>\n",
       "      <td>222.710623</td>\n",
       "      <td>Yarım Pansiyon</td>\n",
       "      <td>İzmir</td>\n",
       "      <td>Saturday</td>\n",
       "      <td>7</td>\n",
       "      <td>Low</td>\n",
       "    </tr>\n",
       "    <tr>\n",
       "      <th>4</th>\n",
       "      <td>414951</td>\n",
       "      <td>2022-12-01 00:00:00</td>\n",
       "      <td>2022-12-03 00:00:00</td>\n",
       "      <td>140.476190</td>\n",
       "      <td>Yarım Pansiyon</td>\n",
       "      <td>İzmir</td>\n",
       "      <td>Saturday</td>\n",
       "      <td>2</td>\n",
       "      <td>Low</td>\n",
       "    </tr>\n",
       "  </tbody>\n",
       "</table>\n",
       "</div>"
      ],
      "text/plain": [
       "   SaleId             SaleDate          CheckInDate       Price  \\\n",
       "0  415122  2022-12-03 00:00:00  2022-12-03 00:00:00   79.304029   \n",
       "1  415103  2022-12-03 00:00:00  2022-12-03 00:00:00   45.970696   \n",
       "2  404034  2022-09-12 00:00:00  2022-09-13 00:00:00   77.838828   \n",
       "3  415094  2022-12-03 00:00:00  2022-12-10 00:00:00  222.710623   \n",
       "4  414951  2022-12-01 00:00:00  2022-12-03 00:00:00  140.476190   \n",
       "\n",
       "      ConceptName SaleCityName    CInDay  SaleCheckInDayDiff Seasons  \n",
       "0    Herşey Dahil      Antalya  Saturday                   0     Low  \n",
       "1  Yarım Pansiyon      Antalya  Saturday                   0     Low  \n",
       "2    Herşey Dahil      Antalya   Tuesday                   1    High  \n",
       "3  Yarım Pansiyon        İzmir  Saturday                   7     Low  \n",
       "4  Yarım Pansiyon        İzmir  Saturday                   2     Low  "
      ]
     },
     "execution_count": 157,
     "metadata": {},
     "output_type": "execute_result"
    }
   ],
   "source": [
    "df.head()"
   ]
  },
  {
   "cell_type": "markdown",
   "id": "39a5ae6d-fd96-43c1-bf3c-4ddac51cc61d",
   "metadata": {},
   "source": [
    "### GÖREV 1"
   ]
  },
  {
   "cell_type": "code",
   "execution_count": 160,
   "id": "531ee3e9-bd25-46ba-a3a5-096e1e4c7034",
   "metadata": {},
   "outputs": [
    {
     "name": "stdout",
     "output_type": "stream",
     "text": [
      "Unique Şehir Sayısı\n",
      "SaleCityName\n",
      "Antalya    31649\n",
      "Muğla      10662\n",
      "Aydın      10646\n",
      "Diğer       3245\n",
      "İzmir       2507\n",
      "Girne        455\n",
      "Name: count, dtype: int64\n"
     ]
    }
   ],
   "source": [
    "print(\"Unique Şehir Sayısı\")\n",
    "print(df[\"SaleCityName\"].value_counts())"
   ]
  },
  {
   "cell_type": "code",
   "execution_count": 162,
   "id": "423c0269-58ab-4bdd-8674-a6ebfd049e32",
   "metadata": {},
   "outputs": [
    {
     "name": "stdout",
     "output_type": "stream",
     "text": [
      "Unique Concept Sayısı\n",
      "\n",
      "3\n"
     ]
    }
   ],
   "source": [
    "print(\"Unique Concept Sayısı\\n\")\n",
    "print(df[\"ConceptName\"].nunique())"
   ]
  },
  {
   "cell_type": "code",
   "execution_count": 164,
   "id": "25109661-9959-4c59-83ad-c65416a5b2ea",
   "metadata": {},
   "outputs": [
    {
     "name": "stdout",
     "output_type": "stream",
     "text": [
      "Hangi Concept’den kaçar tane satış gerçekleşmiş?\n",
      "\n",
      "ConceptName\n",
      "Herşey Dahil      53186\n",
      "Yarım Pansiyon     3559\n",
      "Oda + Kahvaltı     2419\n",
      "Name: count, dtype: int64\n"
     ]
    }
   ],
   "source": [
    "print(\"Hangi Concept’den kaçar tane satış gerçekleşmiş?\\n\")\n",
    "print(df[\"ConceptName\"].value_counts())"
   ]
  },
  {
   "cell_type": "code",
   "execution_count": 166,
   "id": "addc7145-615e-437f-86a1-6fdfac4239d4",
   "metadata": {},
   "outputs": [
    {
     "name": "stdout",
     "output_type": "stream",
     "text": [
      "Şehirlere göre satışlardan toplam ne kadar kazanılmış?\n",
      "\n",
      "SaleCityName\n",
      "Antalya    2041911.10\n",
      "Aydın       573296.01\n",
      "Diğer       154572.29\n",
      "Girne        27065.03\n",
      "Muğla       665842.21\n",
      "İzmir       165934.83\n",
      "Name: Price, dtype: float64\n"
     ]
    }
   ],
   "source": [
    "print(\"Şehirlere göre satışlardan toplam ne kadar kazanılmış?\\n\")\n",
    "print(df.groupby(\"SaleCityName\")[\"Price\"].sum().round(2))"
   ]
  },
  {
   "cell_type": "code",
   "execution_count": 168,
   "id": "4b2bab16-7544-4353-844f-cdf752a6c9e0",
   "metadata": {},
   "outputs": [
    {
     "name": "stdout",
     "output_type": "stream",
     "text": [
      "Concept türlerine göre göre ne kadar kazanılmış?\n",
      "\n",
      "ConceptName\n",
      "Herşey Dahil      3332910.77\n",
      "Oda + Kahvaltı     121308.35\n",
      "Yarım Pansiyon     174402.35\n",
      "Name: Price, dtype: float64\n"
     ]
    }
   ],
   "source": [
    "print(\"Concept türlerine göre göre ne kadar kazanılmış?\\n\")\n",
    "print(df.groupby(\"ConceptName\")[\"Price\"].sum().round(2))"
   ]
  },
  {
   "cell_type": "code",
   "execution_count": 170,
   "id": "73685f0c-af9d-4986-b5d6-41e9d5048e31",
   "metadata": {},
   "outputs": [
    {
     "name": "stdout",
     "output_type": "stream",
     "text": [
      "Şehirlere göre PRICE ortalamaları nedir?\n",
      "\n",
      "SaleCityName\n",
      "Antalya    64.521474\n",
      "Aydın      53.855896\n",
      "Diğer      47.707497\n",
      "Girne      59.483579\n",
      "Muğla      62.461746\n",
      "İzmir      66.267905\n",
      "Name: Price, dtype: float64\n"
     ]
    }
   ],
   "source": [
    "print(\"Şehirlere göre PRICE ortalamaları nedir?\\n\")\n",
    "print(df.groupby(\"SaleCityName\")[\"Price\"].mean())"
   ]
  },
  {
   "cell_type": "code",
   "execution_count": 172,
   "id": "e919569e-adda-444c-a106-ebaaa6a510fa",
   "metadata": {},
   "outputs": [
    {
     "name": "stdout",
     "output_type": "stream",
     "text": [
      "Conceptlere göre PRICE ortalamaları nedir?\n",
      "\n",
      "ConceptName\n",
      "Herşey Dahil      62.672260\n",
      "Oda + Kahvaltı    50.252010\n",
      "Yarım Pansiyon    49.030742\n",
      "Name: Price, dtype: float64\n"
     ]
    }
   ],
   "source": [
    "print(\"Conceptlere göre PRICE ortalamaları nedir?\\n\")\n",
    "print(df.groupby(\"ConceptName\")[\"Price\"].mean())"
   ]
  },
  {
   "cell_type": "code",
   "execution_count": 174,
   "id": "69da420f-82e3-4981-933f-84a4e1c3e4b5",
   "metadata": {},
   "outputs": [
    {
     "name": "stdout",
     "output_type": "stream",
     "text": [
      "Şehir-Concept kırılımındaPRICE ortalamalarınedir?\n",
      "\n",
      "SaleCityName  ConceptName   \n",
      "Antalya       Herşey Dahil      64.519028\n",
      "              Oda + Kahvaltı    63.504816\n",
      "              Yarım Pansiyon    67.190613\n",
      "Aydın         Herşey Dahil      53.995467\n",
      "              Oda + Kahvaltı    34.458787\n",
      "              Yarım Pansiyon    30.016543\n",
      "Diğer         Herşey Dahil      84.771093\n",
      "              Oda + Kahvaltı    37.599082\n",
      "              Yarım Pansiyon    42.113440\n",
      "Girne         Herşey Dahil      97.680970\n",
      "              Oda + Kahvaltı    39.775536\n",
      "              Yarım Pansiyon    53.247838\n",
      "Muğla         Herşey Dahil      63.020053\n",
      "              Oda + Kahvaltı    59.037763\n",
      "              Yarım Pansiyon    45.120924\n",
      "İzmir         Herşey Dahil      74.701519\n",
      "              Oda + Kahvaltı    41.320342\n",
      "              Yarım Pansiyon    59.610053\n",
      "Name: Price, dtype: float64\n"
     ]
    }
   ],
   "source": [
    "print(\"Şehir-Concept kırılımındaPRICE ortalamalarınedir?\\n\")\n",
    "print(df.groupby([\"SaleCityName\", \"ConceptName\"])[\"Price\"].mean())"
   ]
  },
  {
   "cell_type": "markdown",
   "id": "c8fb00a1-df8a-48ec-b6e1-6bbb2f847272",
   "metadata": {},
   "source": [
    "### GÖREV 2"
   ]
  },
  {
   "cell_type": "code",
   "execution_count": 177,
   "id": "0e26bc67-9e5d-488f-aa6a-b9a22a868ca0",
   "metadata": {},
   "outputs": [
    {
     "data": {
      "text/html": [
       "<div>\n",
       "<style scoped>\n",
       "    .dataframe tbody tr th:only-of-type {\n",
       "        vertical-align: middle;\n",
       "    }\n",
       "\n",
       "    .dataframe tbody tr th {\n",
       "        vertical-align: top;\n",
       "    }\n",
       "\n",
       "    .dataframe thead th {\n",
       "        text-align: right;\n",
       "    }\n",
       "</style>\n",
       "<table border=\"1\" class=\"dataframe\">\n",
       "  <thead>\n",
       "    <tr style=\"text-align: right;\">\n",
       "      <th></th>\n",
       "      <th>SaleId</th>\n",
       "      <th>SaleDate</th>\n",
       "      <th>CheckInDate</th>\n",
       "      <th>Price</th>\n",
       "      <th>ConceptName</th>\n",
       "      <th>SaleCityName</th>\n",
       "      <th>CInDay</th>\n",
       "      <th>SaleCheckInDayDiff</th>\n",
       "      <th>Seasons</th>\n",
       "    </tr>\n",
       "  </thead>\n",
       "  <tbody>\n",
       "    <tr>\n",
       "      <th>0</th>\n",
       "      <td>415122</td>\n",
       "      <td>2022-12-03 00:00:00</td>\n",
       "      <td>2022-12-03 00:00:00</td>\n",
       "      <td>79.304029</td>\n",
       "      <td>Herşey Dahil</td>\n",
       "      <td>Antalya</td>\n",
       "      <td>Saturday</td>\n",
       "      <td>0</td>\n",
       "      <td>Low</td>\n",
       "    </tr>\n",
       "    <tr>\n",
       "      <th>1</th>\n",
       "      <td>415103</td>\n",
       "      <td>2022-12-03 00:00:00</td>\n",
       "      <td>2022-12-03 00:00:00</td>\n",
       "      <td>45.970696</td>\n",
       "      <td>Yarım Pansiyon</td>\n",
       "      <td>Antalya</td>\n",
       "      <td>Saturday</td>\n",
       "      <td>0</td>\n",
       "      <td>Low</td>\n",
       "    </tr>\n",
       "    <tr>\n",
       "      <th>2</th>\n",
       "      <td>404034</td>\n",
       "      <td>2022-09-12 00:00:00</td>\n",
       "      <td>2022-09-13 00:00:00</td>\n",
       "      <td>77.838828</td>\n",
       "      <td>Herşey Dahil</td>\n",
       "      <td>Antalya</td>\n",
       "      <td>Tuesday</td>\n",
       "      <td>1</td>\n",
       "      <td>High</td>\n",
       "    </tr>\n",
       "    <tr>\n",
       "      <th>3</th>\n",
       "      <td>415094</td>\n",
       "      <td>2022-12-03 00:00:00</td>\n",
       "      <td>2022-12-10 00:00:00</td>\n",
       "      <td>222.710623</td>\n",
       "      <td>Yarım Pansiyon</td>\n",
       "      <td>İzmir</td>\n",
       "      <td>Saturday</td>\n",
       "      <td>7</td>\n",
       "      <td>Low</td>\n",
       "    </tr>\n",
       "    <tr>\n",
       "      <th>4</th>\n",
       "      <td>414951</td>\n",
       "      <td>2022-12-01 00:00:00</td>\n",
       "      <td>2022-12-03 00:00:00</td>\n",
       "      <td>140.476190</td>\n",
       "      <td>Yarım Pansiyon</td>\n",
       "      <td>İzmir</td>\n",
       "      <td>Saturday</td>\n",
       "      <td>2</td>\n",
       "      <td>Low</td>\n",
       "    </tr>\n",
       "  </tbody>\n",
       "</table>\n",
       "</div>"
      ],
      "text/plain": [
       "   SaleId             SaleDate          CheckInDate       Price  \\\n",
       "0  415122  2022-12-03 00:00:00  2022-12-03 00:00:00   79.304029   \n",
       "1  415103  2022-12-03 00:00:00  2022-12-03 00:00:00   45.970696   \n",
       "2  404034  2022-09-12 00:00:00  2022-09-13 00:00:00   77.838828   \n",
       "3  415094  2022-12-03 00:00:00  2022-12-10 00:00:00  222.710623   \n",
       "4  414951  2022-12-01 00:00:00  2022-12-03 00:00:00  140.476190   \n",
       "\n",
       "      ConceptName SaleCityName    CInDay  SaleCheckInDayDiff Seasons  \n",
       "0    Herşey Dahil      Antalya  Saturday                   0     Low  \n",
       "1  Yarım Pansiyon      Antalya  Saturday                   0     Low  \n",
       "2    Herşey Dahil      Antalya   Tuesday                   1    High  \n",
       "3  Yarım Pansiyon        İzmir  Saturday                   7     Low  \n",
       "4  Yarım Pansiyon        İzmir  Saturday                   2     Low  "
      ]
     },
     "execution_count": 177,
     "metadata": {},
     "output_type": "execute_result"
    }
   ],
   "source": [
    "df.head()"
   ]
  },
  {
   "cell_type": "code",
   "execution_count": 179,
   "id": "6e6f2327-7a86-47b5-b12d-0bed37f6cb22",
   "metadata": {},
   "outputs": [],
   "source": [
    "def categorical_day_diff(diff):\n",
    "    if diff <= 7:\n",
    "        return \"Last Minuters\"\n",
    "    elif diff <= 30:\n",
    "        return \"Potential Planners\"\n",
    "    elif diff <= 90:\n",
    "        return \"Planners\"\n",
    "    else:\n",
    "        return \"Early Bookers\"\n",
    "\n",
    "df[\"EB_Score\"] = df[\"SaleCheckInDayDiff\"].apply(categorical_day_diff)"
   ]
  },
  {
   "cell_type": "code",
   "execution_count": 181,
   "id": "72c39b3b-d044-4116-9aec-bc1bd7d22df0",
   "metadata": {},
   "outputs": [
    {
     "data": {
      "text/plain": [
       "EB_Score\n",
       "Last Minuters         26564\n",
       "Potential Planners    16621\n",
       "Planners               9184\n",
       "Early Bookers          6795\n",
       "Name: count, dtype: int64"
      ]
     },
     "execution_count": 181,
     "metadata": {},
     "output_type": "execute_result"
    }
   ],
   "source": [
    "df[\"EB_Score\"].value_counts()"
   ]
  },
  {
   "cell_type": "markdown",
   "id": "80af7b85-893f-4ea1-bac1-9abeb8f7ee6c",
   "metadata": {},
   "source": [
    "### GÖREV 3"
   ]
  },
  {
   "cell_type": "code",
   "execution_count": 184,
   "id": "b9155ada-6361-4acf-8c4b-41f73c5fadb4",
   "metadata": {},
   "outputs": [
    {
     "data": {
      "text/html": [
       "<div>\n",
       "<style scoped>\n",
       "    .dataframe tbody tr th:only-of-type {\n",
       "        vertical-align: middle;\n",
       "    }\n",
       "\n",
       "    .dataframe tbody tr th {\n",
       "        vertical-align: top;\n",
       "    }\n",
       "\n",
       "    .dataframe thead th {\n",
       "        text-align: right;\n",
       "    }\n",
       "</style>\n",
       "<table border=\"1\" class=\"dataframe\">\n",
       "  <thead>\n",
       "    <tr style=\"text-align: right;\">\n",
       "      <th></th>\n",
       "      <th>SaleId</th>\n",
       "      <th>SaleDate</th>\n",
       "      <th>CheckInDate</th>\n",
       "      <th>Price</th>\n",
       "      <th>ConceptName</th>\n",
       "      <th>SaleCityName</th>\n",
       "      <th>CInDay</th>\n",
       "      <th>SaleCheckInDayDiff</th>\n",
       "      <th>Seasons</th>\n",
       "      <th>EB_Score</th>\n",
       "    </tr>\n",
       "  </thead>\n",
       "  <tbody>\n",
       "    <tr>\n",
       "      <th>0</th>\n",
       "      <td>415122</td>\n",
       "      <td>2022-12-03 00:00:00</td>\n",
       "      <td>2022-12-03 00:00:00</td>\n",
       "      <td>79.304029</td>\n",
       "      <td>Herşey Dahil</td>\n",
       "      <td>Antalya</td>\n",
       "      <td>Saturday</td>\n",
       "      <td>0</td>\n",
       "      <td>Low</td>\n",
       "      <td>Last Minuters</td>\n",
       "    </tr>\n",
       "    <tr>\n",
       "      <th>1</th>\n",
       "      <td>415103</td>\n",
       "      <td>2022-12-03 00:00:00</td>\n",
       "      <td>2022-12-03 00:00:00</td>\n",
       "      <td>45.970696</td>\n",
       "      <td>Yarım Pansiyon</td>\n",
       "      <td>Antalya</td>\n",
       "      <td>Saturday</td>\n",
       "      <td>0</td>\n",
       "      <td>Low</td>\n",
       "      <td>Last Minuters</td>\n",
       "    </tr>\n",
       "    <tr>\n",
       "      <th>2</th>\n",
       "      <td>404034</td>\n",
       "      <td>2022-09-12 00:00:00</td>\n",
       "      <td>2022-09-13 00:00:00</td>\n",
       "      <td>77.838828</td>\n",
       "      <td>Herşey Dahil</td>\n",
       "      <td>Antalya</td>\n",
       "      <td>Tuesday</td>\n",
       "      <td>1</td>\n",
       "      <td>High</td>\n",
       "      <td>Last Minuters</td>\n",
       "    </tr>\n",
       "    <tr>\n",
       "      <th>3</th>\n",
       "      <td>415094</td>\n",
       "      <td>2022-12-03 00:00:00</td>\n",
       "      <td>2022-12-10 00:00:00</td>\n",
       "      <td>222.710623</td>\n",
       "      <td>Yarım Pansiyon</td>\n",
       "      <td>İzmir</td>\n",
       "      <td>Saturday</td>\n",
       "      <td>7</td>\n",
       "      <td>Low</td>\n",
       "      <td>Last Minuters</td>\n",
       "    </tr>\n",
       "    <tr>\n",
       "      <th>4</th>\n",
       "      <td>414951</td>\n",
       "      <td>2022-12-01 00:00:00</td>\n",
       "      <td>2022-12-03 00:00:00</td>\n",
       "      <td>140.476190</td>\n",
       "      <td>Yarım Pansiyon</td>\n",
       "      <td>İzmir</td>\n",
       "      <td>Saturday</td>\n",
       "      <td>2</td>\n",
       "      <td>Low</td>\n",
       "      <td>Last Minuters</td>\n",
       "    </tr>\n",
       "  </tbody>\n",
       "</table>\n",
       "</div>"
      ],
      "text/plain": [
       "   SaleId             SaleDate          CheckInDate       Price  \\\n",
       "0  415122  2022-12-03 00:00:00  2022-12-03 00:00:00   79.304029   \n",
       "1  415103  2022-12-03 00:00:00  2022-12-03 00:00:00   45.970696   \n",
       "2  404034  2022-09-12 00:00:00  2022-09-13 00:00:00   77.838828   \n",
       "3  415094  2022-12-03 00:00:00  2022-12-10 00:00:00  222.710623   \n",
       "4  414951  2022-12-01 00:00:00  2022-12-03 00:00:00  140.476190   \n",
       "\n",
       "      ConceptName SaleCityName    CInDay  SaleCheckInDayDiff Seasons  \\\n",
       "0    Herşey Dahil      Antalya  Saturday                   0     Low   \n",
       "1  Yarım Pansiyon      Antalya  Saturday                   0     Low   \n",
       "2    Herşey Dahil      Antalya   Tuesday                   1    High   \n",
       "3  Yarım Pansiyon        İzmir  Saturday                   7     Low   \n",
       "4  Yarım Pansiyon        İzmir  Saturday                   2     Low   \n",
       "\n",
       "        EB_Score  \n",
       "0  Last Minuters  \n",
       "1  Last Minuters  \n",
       "2  Last Minuters  \n",
       "3  Last Minuters  \n",
       "4  Last Minuters  "
      ]
     },
     "execution_count": 184,
     "metadata": {},
     "output_type": "execute_result"
    }
   ],
   "source": [
    "df.head()"
   ]
  },
  {
   "cell_type": "code",
   "execution_count": 186,
   "id": "b02983da-cfaa-4c8b-bd71-c49c7323b469",
   "metadata": {},
   "outputs": [],
   "source": [
    "df_3 = df.groupby([\"SaleCityName\", \"ConceptName\", \"EB_Score\"])[\"Price\"].agg([\"mean\", \"count\"])"
   ]
  },
  {
   "cell_type": "code",
   "execution_count": 188,
   "id": "44147617-7d3b-44f7-9216-20db1d446fe3",
   "metadata": {},
   "outputs": [
    {
     "data": {
      "text/html": [
       "<div>\n",
       "<style scoped>\n",
       "    .dataframe tbody tr th:only-of-type {\n",
       "        vertical-align: middle;\n",
       "    }\n",
       "\n",
       "    .dataframe tbody tr th {\n",
       "        vertical-align: top;\n",
       "    }\n",
       "\n",
       "    .dataframe thead th {\n",
       "        text-align: right;\n",
       "    }\n",
       "</style>\n",
       "<table border=\"1\" class=\"dataframe\">\n",
       "  <thead>\n",
       "    <tr style=\"text-align: right;\">\n",
       "      <th></th>\n",
       "      <th></th>\n",
       "      <th></th>\n",
       "      <th>mean</th>\n",
       "      <th>count</th>\n",
       "    </tr>\n",
       "    <tr>\n",
       "      <th>SaleCityName</th>\n",
       "      <th>ConceptName</th>\n",
       "      <th>EB_Score</th>\n",
       "      <th></th>\n",
       "      <th></th>\n",
       "    </tr>\n",
       "  </thead>\n",
       "  <tbody>\n",
       "    <tr>\n",
       "      <th rowspan=\"5\" valign=\"top\">Antalya</th>\n",
       "      <th rowspan=\"4\" valign=\"top\">Herşey Dahil</th>\n",
       "      <th>Early Bookers</th>\n",
       "      <td>66.494885</td>\n",
       "      <td>3281</td>\n",
       "    </tr>\n",
       "    <tr>\n",
       "      <th>Last Minuters</th>\n",
       "      <td>62.752916</td>\n",
       "      <td>14148</td>\n",
       "    </tr>\n",
       "    <tr>\n",
       "      <th>Planners</th>\n",
       "      <td>67.879960</td>\n",
       "      <td>4490</td>\n",
       "    </tr>\n",
       "    <tr>\n",
       "      <th>Potential Planners</th>\n",
       "      <td>64.903700</td>\n",
       "      <td>8874</td>\n",
       "    </tr>\n",
       "    <tr>\n",
       "      <th>Oda + Kahvaltı</th>\n",
       "      <th>Early Bookers</th>\n",
       "      <td>35.002594</td>\n",
       "      <td>5</td>\n",
       "    </tr>\n",
       "    <tr>\n",
       "      <th>...</th>\n",
       "      <th>...</th>\n",
       "      <th>...</th>\n",
       "      <td>...</td>\n",
       "      <td>...</td>\n",
       "    </tr>\n",
       "    <tr>\n",
       "      <th rowspan=\"5\" valign=\"top\">İzmir</th>\n",
       "      <th>Oda + Kahvaltı</th>\n",
       "      <th>Potential Planners</th>\n",
       "      <td>36.807772</td>\n",
       "      <td>41</td>\n",
       "    </tr>\n",
       "    <tr>\n",
       "      <th rowspan=\"4\" valign=\"top\">Yarım Pansiyon</th>\n",
       "      <th>Early Bookers</th>\n",
       "      <td>65.905583</td>\n",
       "      <td>14</td>\n",
       "    </tr>\n",
       "    <tr>\n",
       "      <th>Last Minuters</th>\n",
       "      <td>57.788126</td>\n",
       "      <td>636</td>\n",
       "    </tr>\n",
       "    <tr>\n",
       "      <th>Planners</th>\n",
       "      <td>60.507887</td>\n",
       "      <td>47</td>\n",
       "    </tr>\n",
       "    <tr>\n",
       "      <th>Potential Planners</th>\n",
       "      <td>64.804043</td>\n",
       "      <td>198</td>\n",
       "    </tr>\n",
       "  </tbody>\n",
       "</table>\n",
       "<p>72 rows × 2 columns</p>\n",
       "</div>"
      ],
      "text/plain": [
       "                                                     mean  count\n",
       "SaleCityName ConceptName    EB_Score                            \n",
       "Antalya      Herşey Dahil   Early Bookers       66.494885   3281\n",
       "                            Last Minuters       62.752916  14148\n",
       "                            Planners            67.879960   4490\n",
       "                            Potential Planners  64.903700   8874\n",
       "             Oda + Kahvaltı Early Bookers       35.002594      5\n",
       "...                                                   ...    ...\n",
       "İzmir        Oda + Kahvaltı Potential Planners  36.807772     41\n",
       "             Yarım Pansiyon Early Bookers       65.905583     14\n",
       "                            Last Minuters       57.788126    636\n",
       "                            Planners            60.507887     47\n",
       "                            Potential Planners  64.804043    198\n",
       "\n",
       "[72 rows x 2 columns]"
      ]
     },
     "execution_count": 188,
     "metadata": {},
     "output_type": "execute_result"
    }
   ],
   "source": [
    "df_3"
   ]
  },
  {
   "cell_type": "markdown",
   "id": "37010645-3054-42c1-9ca7-4fe1c06fbf8f",
   "metadata": {},
   "source": [
    "### GÖREV 4"
   ]
  },
  {
   "cell_type": "code",
   "execution_count": 233,
   "id": "15d99044-63b7-4b5e-a192-0610066064d7",
   "metadata": {},
   "outputs": [],
   "source": [
    "agg_df = df.groupby([\"SaleCityName\", \"ConceptName\", \"Seasons\"])[\"Price\"].mean().reset_index()"
   ]
  },
  {
   "cell_type": "code",
   "execution_count": 235,
   "id": "d2cca9c9-adf5-4e2d-866e-02b0ed7bca57",
   "metadata": {},
   "outputs": [],
   "source": [
    "agg_df = agg_df.sort_values(by=\"Price\", ascending=False).reset_index(drop=True)"
   ]
  },
  {
   "cell_type": "code",
   "execution_count": 237,
   "id": "55dc3fdb-9178-4f43-a2de-223c4b440a5d",
   "metadata": {},
   "outputs": [
    {
     "data": {
      "text/html": [
       "<div>\n",
       "<style scoped>\n",
       "    .dataframe tbody tr th:only-of-type {\n",
       "        vertical-align: middle;\n",
       "    }\n",
       "\n",
       "    .dataframe tbody tr th {\n",
       "        vertical-align: top;\n",
       "    }\n",
       "\n",
       "    .dataframe thead th {\n",
       "        text-align: right;\n",
       "    }\n",
       "</style>\n",
       "<table border=\"1\" class=\"dataframe\">\n",
       "  <thead>\n",
       "    <tr style=\"text-align: right;\">\n",
       "      <th></th>\n",
       "      <th>SaleCityName</th>\n",
       "      <th>ConceptName</th>\n",
       "      <th>Seasons</th>\n",
       "      <th>Price</th>\n",
       "    </tr>\n",
       "  </thead>\n",
       "  <tbody>\n",
       "    <tr>\n",
       "      <th>0</th>\n",
       "      <td>Girne</td>\n",
       "      <td>Herşey Dahil</td>\n",
       "      <td>High</td>\n",
       "      <td>103.935448</td>\n",
       "    </tr>\n",
       "    <tr>\n",
       "      <th>1</th>\n",
       "      <td>Girne</td>\n",
       "      <td>Herşey Dahil</td>\n",
       "      <td>Low</td>\n",
       "      <td>90.935944</td>\n",
       "    </tr>\n",
       "    <tr>\n",
       "      <th>2</th>\n",
       "      <td>İzmir</td>\n",
       "      <td>Yarım Pansiyon</td>\n",
       "      <td>High</td>\n",
       "      <td>87.657303</td>\n",
       "    </tr>\n",
       "    <tr>\n",
       "      <th>3</th>\n",
       "      <td>Diğer</td>\n",
       "      <td>Herşey Dahil</td>\n",
       "      <td>Low</td>\n",
       "      <td>87.310882</td>\n",
       "    </tr>\n",
       "    <tr>\n",
       "      <th>4</th>\n",
       "      <td>Diğer</td>\n",
       "      <td>Herşey Dahil</td>\n",
       "      <td>High</td>\n",
       "      <td>83.787273</td>\n",
       "    </tr>\n",
       "  </tbody>\n",
       "</table>\n",
       "</div>"
      ],
      "text/plain": [
       "  SaleCityName     ConceptName Seasons       Price\n",
       "0        Girne    Herşey Dahil    High  103.935448\n",
       "1        Girne    Herşey Dahil     Low   90.935944\n",
       "2        İzmir  Yarım Pansiyon    High   87.657303\n",
       "3        Diğer    Herşey Dahil     Low   87.310882\n",
       "4        Diğer    Herşey Dahil    High   83.787273"
      ]
     },
     "execution_count": 237,
     "metadata": {},
     "output_type": "execute_result"
    }
   ],
   "source": [
    "agg_df.head()"
   ]
  },
  {
   "cell_type": "markdown",
   "id": "8b7e1ba2-b1ff-4043-921b-3d6a9c2595c0",
   "metadata": {},
   "source": [
    "### GÖREV 5"
   ]
  },
  {
   "cell_type": "code",
   "execution_count": 241,
   "id": "e65e0bd7-53cb-4945-a217-b329fa19e938",
   "metadata": {},
   "outputs": [
    {
     "data": {
      "text/html": [
       "<div>\n",
       "<style scoped>\n",
       "    .dataframe tbody tr th:only-of-type {\n",
       "        vertical-align: middle;\n",
       "    }\n",
       "\n",
       "    .dataframe tbody tr th {\n",
       "        vertical-align: top;\n",
       "    }\n",
       "\n",
       "    .dataframe thead th {\n",
       "        text-align: right;\n",
       "    }\n",
       "</style>\n",
       "<table border=\"1\" class=\"dataframe\">\n",
       "  <thead>\n",
       "    <tr style=\"text-align: right;\">\n",
       "      <th></th>\n",
       "      <th>SaleCityName</th>\n",
       "      <th>ConceptName</th>\n",
       "      <th>Seasons</th>\n",
       "      <th>Price</th>\n",
       "    </tr>\n",
       "  </thead>\n",
       "  <tbody>\n",
       "    <tr>\n",
       "      <th>0</th>\n",
       "      <td>Girne</td>\n",
       "      <td>Herşey Dahil</td>\n",
       "      <td>High</td>\n",
       "      <td>103.935448</td>\n",
       "    </tr>\n",
       "    <tr>\n",
       "      <th>1</th>\n",
       "      <td>Girne</td>\n",
       "      <td>Herşey Dahil</td>\n",
       "      <td>Low</td>\n",
       "      <td>90.935944</td>\n",
       "    </tr>\n",
       "    <tr>\n",
       "      <th>2</th>\n",
       "      <td>İzmir</td>\n",
       "      <td>Yarım Pansiyon</td>\n",
       "      <td>High</td>\n",
       "      <td>87.657303</td>\n",
       "    </tr>\n",
       "    <tr>\n",
       "      <th>3</th>\n",
       "      <td>Diğer</td>\n",
       "      <td>Herşey Dahil</td>\n",
       "      <td>Low</td>\n",
       "      <td>87.310882</td>\n",
       "    </tr>\n",
       "    <tr>\n",
       "      <th>4</th>\n",
       "      <td>Diğer</td>\n",
       "      <td>Herşey Dahil</td>\n",
       "      <td>High</td>\n",
       "      <td>83.787273</td>\n",
       "    </tr>\n",
       "  </tbody>\n",
       "</table>\n",
       "</div>"
      ],
      "text/plain": [
       "  SaleCityName     ConceptName Seasons       Price\n",
       "0        Girne    Herşey Dahil    High  103.935448\n",
       "1        Girne    Herşey Dahil     Low   90.935944\n",
       "2        İzmir  Yarım Pansiyon    High   87.657303\n",
       "3        Diğer    Herşey Dahil     Low   87.310882\n",
       "4        Diğer    Herşey Dahil    High   83.787273"
      ]
     },
     "execution_count": 241,
     "metadata": {},
     "output_type": "execute_result"
    }
   ],
   "source": [
    "agg_df.columns = [\"SaleCityName\", \"ConceptName\", \"Seasons\", \"Price\"]\n",
    "agg_df.head()"
   ]
  },
  {
   "cell_type": "markdown",
   "id": "e52c31f7-a7ce-4589-9874-116eca2123f1",
   "metadata": {},
   "source": [
    "### GÖREV 6"
   ]
  },
  {
   "cell_type": "code",
   "execution_count": 246,
   "id": "29e44f7d-8375-403e-8dff-ac2066f0af0d",
   "metadata": {},
   "outputs": [],
   "source": [
    "agg_df[\"saled_level_based\"] = agg_df[\"SaleCityName\"].str.upper() +\"_\"+\\\n",
    "                              agg_df[\"ConceptName\"].str.upper() +\"_\"+\\\n",
    "                              agg_df[\"Seasons\"].str.upper()"
   ]
  },
  {
   "cell_type": "code",
   "execution_count": 252,
   "id": "c43f2309-eb85-4423-be38-583d22d9f5ed",
   "metadata": {},
   "outputs": [
    {
     "data": {
      "text/html": [
       "<div>\n",
       "<style scoped>\n",
       "    .dataframe tbody tr th:only-of-type {\n",
       "        vertical-align: middle;\n",
       "    }\n",
       "\n",
       "    .dataframe tbody tr th {\n",
       "        vertical-align: top;\n",
       "    }\n",
       "\n",
       "    .dataframe thead th {\n",
       "        text-align: right;\n",
       "    }\n",
       "</style>\n",
       "<table border=\"1\" class=\"dataframe\">\n",
       "  <thead>\n",
       "    <tr style=\"text-align: right;\">\n",
       "      <th></th>\n",
       "      <th>SaleCityName</th>\n",
       "      <th>ConceptName</th>\n",
       "      <th>Seasons</th>\n",
       "      <th>Price</th>\n",
       "      <th>saled_level_based</th>\n",
       "    </tr>\n",
       "  </thead>\n",
       "  <tbody>\n",
       "    <tr>\n",
       "      <th>0</th>\n",
       "      <td>Girne</td>\n",
       "      <td>Herşey Dahil</td>\n",
       "      <td>High</td>\n",
       "      <td>103.935448</td>\n",
       "      <td>GIRNE_HERŞEY DAHIL_HIGH</td>\n",
       "    </tr>\n",
       "    <tr>\n",
       "      <th>1</th>\n",
       "      <td>Girne</td>\n",
       "      <td>Herşey Dahil</td>\n",
       "      <td>Low</td>\n",
       "      <td>90.935944</td>\n",
       "      <td>GIRNE_HERŞEY DAHIL_LOW</td>\n",
       "    </tr>\n",
       "    <tr>\n",
       "      <th>2</th>\n",
       "      <td>İzmir</td>\n",
       "      <td>Yarım Pansiyon</td>\n",
       "      <td>High</td>\n",
       "      <td>87.657303</td>\n",
       "      <td>İZMIR_YARIM PANSIYON_HIGH</td>\n",
       "    </tr>\n",
       "    <tr>\n",
       "      <th>3</th>\n",
       "      <td>Diğer</td>\n",
       "      <td>Herşey Dahil</td>\n",
       "      <td>Low</td>\n",
       "      <td>87.310882</td>\n",
       "      <td>DIĞER_HERŞEY DAHIL_LOW</td>\n",
       "    </tr>\n",
       "    <tr>\n",
       "      <th>4</th>\n",
       "      <td>Diğer</td>\n",
       "      <td>Herşey Dahil</td>\n",
       "      <td>High</td>\n",
       "      <td>83.787273</td>\n",
       "      <td>DIĞER_HERŞEY DAHIL_HIGH</td>\n",
       "    </tr>\n",
       "  </tbody>\n",
       "</table>\n",
       "</div>"
      ],
      "text/plain": [
       "  SaleCityName     ConceptName Seasons       Price          saled_level_based\n",
       "0        Girne    Herşey Dahil    High  103.935448    GIRNE_HERŞEY DAHIL_HIGH\n",
       "1        Girne    Herşey Dahil     Low   90.935944     GIRNE_HERŞEY DAHIL_LOW\n",
       "2        İzmir  Yarım Pansiyon    High   87.657303  İZMIR_YARIM PANSIYON_HIGH\n",
       "3        Diğer    Herşey Dahil     Low   87.310882     DIĞER_HERŞEY DAHIL_LOW\n",
       "4        Diğer    Herşey Dahil    High   83.787273    DIĞER_HERŞEY DAHIL_HIGH"
      ]
     },
     "execution_count": 252,
     "metadata": {},
     "output_type": "execute_result"
    }
   ],
   "source": [
    "agg_df.head()"
   ]
  },
  {
   "cell_type": "code",
   "execution_count": 254,
   "id": "91f5206b-e2c7-4fad-939d-1c761468b855",
   "metadata": {},
   "outputs": [],
   "source": [
    "agg_df[\"SEGMENT\"] = pd.qcut(agg_df[\"Price\"], 4, labels=[\"D\", \"C\", \"B\", \"A\"])"
   ]
  },
  {
   "cell_type": "code",
   "execution_count": 258,
   "id": "a14e92ba-0b50-4b8c-8afc-757cbcd18770",
   "metadata": {},
   "outputs": [
    {
     "data": {
      "text/html": [
       "<div>\n",
       "<style scoped>\n",
       "    .dataframe tbody tr th:only-of-type {\n",
       "        vertical-align: middle;\n",
       "    }\n",
       "\n",
       "    .dataframe tbody tr th {\n",
       "        vertical-align: top;\n",
       "    }\n",
       "\n",
       "    .dataframe thead th {\n",
       "        text-align: right;\n",
       "    }\n",
       "</style>\n",
       "<table border=\"1\" class=\"dataframe\">\n",
       "  <thead>\n",
       "    <tr style=\"text-align: right;\">\n",
       "      <th></th>\n",
       "      <th>mean</th>\n",
       "      <th>max</th>\n",
       "      <th>sum</th>\n",
       "    </tr>\n",
       "    <tr>\n",
       "      <th>SEGMENT</th>\n",
       "      <th></th>\n",
       "      <th></th>\n",
       "      <th></th>\n",
       "    </tr>\n",
       "  </thead>\n",
       "  <tbody>\n",
       "    <tr>\n",
       "      <th>D</th>\n",
       "      <td>33.366288</td>\n",
       "      <td>39.479630</td>\n",
       "      <td>300.296592</td>\n",
       "    </tr>\n",
       "    <tr>\n",
       "      <th>C</th>\n",
       "      <td>44.887654</td>\n",
       "      <td>54.141797</td>\n",
       "      <td>403.988887</td>\n",
       "    </tr>\n",
       "    <tr>\n",
       "      <th>B</th>\n",
       "      <td>60.274498</td>\n",
       "      <td>64.920065</td>\n",
       "      <td>542.470478</td>\n",
       "    </tr>\n",
       "    <tr>\n",
       "      <th>A</th>\n",
       "      <td>82.467833</td>\n",
       "      <td>103.935448</td>\n",
       "      <td>742.210498</td>\n",
       "    </tr>\n",
       "  </tbody>\n",
       "</table>\n",
       "</div>"
      ],
      "text/plain": [
       "              mean         max         sum\n",
       "SEGMENT                                   \n",
       "D        33.366288   39.479630  300.296592\n",
       "C        44.887654   54.141797  403.988887\n",
       "B        60.274498   64.920065  542.470478\n",
       "A        82.467833  103.935448  742.210498"
      ]
     },
     "execution_count": 258,
     "metadata": {},
     "output_type": "execute_result"
    }
   ],
   "source": [
    "agg_df.groupby(\"SEGMENT\", observed=True)[\"Price\"].agg([\"mean\", \"max\", \"sum\"])"
   ]
  },
  {
   "cell_type": "markdown",
   "id": "e13d3098-bcc2-480b-8801-e83684111af0",
   "metadata": {},
   "source": [
    "### GÖREV 8"
   ]
  },
  {
   "cell_type": "code",
   "execution_count": 261,
   "id": "6db355f4-246c-44c8-973a-d6853fe0717b",
   "metadata": {},
   "outputs": [],
   "source": [
    "new_customer1 = agg_df[(agg_df[\"SaleCityName\"] == \"Antalya\") &\n",
    "                       (agg_df[\"ConceptName\"] == \"Herşey Dahil\") &\n",
    "                       (agg_df[\"Seasons\"] == \"High\")]"
   ]
  },
  {
   "cell_type": "code",
   "execution_count": 291,
   "id": "f05aa390-d056-4309-86ab-d8aee9f14668",
   "metadata": {},
   "outputs": [
    {
     "data": {
      "text/html": [
       "<div>\n",
       "<style scoped>\n",
       "    .dataframe tbody tr th:only-of-type {\n",
       "        vertical-align: middle;\n",
       "    }\n",
       "\n",
       "    .dataframe tbody tr th {\n",
       "        vertical-align: top;\n",
       "    }\n",
       "\n",
       "    .dataframe thead th {\n",
       "        text-align: right;\n",
       "    }\n",
       "</style>\n",
       "<table border=\"1\" class=\"dataframe\">\n",
       "  <thead>\n",
       "    <tr style=\"text-align: right;\">\n",
       "      <th></th>\n",
       "      <th>SaleCityName</th>\n",
       "      <th>ConceptName</th>\n",
       "      <th>Seasons</th>\n",
       "      <th>Price</th>\n",
       "      <th>saled_level_based</th>\n",
       "      <th>SEGMENT</th>\n",
       "    </tr>\n",
       "  </thead>\n",
       "  <tbody>\n",
       "    <tr>\n",
       "      <th>9</th>\n",
       "      <td>Antalya</td>\n",
       "      <td>Herşey Dahil</td>\n",
       "      <td>High</td>\n",
       "      <td>64.920065</td>\n",
       "      <td>ANTALYA_HERŞEY DAHIL_HIGH</td>\n",
       "      <td>B</td>\n",
       "    </tr>\n",
       "  </tbody>\n",
       "</table>\n",
       "</div>"
      ],
      "text/plain": [
       "  SaleCityName   ConceptName Seasons      Price          saled_level_based  \\\n",
       "9      Antalya  Herşey Dahil    High  64.920065  ANTALYA_HERŞEY DAHIL_HIGH   \n",
       "\n",
       "  SEGMENT  \n",
       "9       B  "
      ]
     },
     "execution_count": 291,
     "metadata": {},
     "output_type": "execute_result"
    }
   ],
   "source": [
    "new_user1 = \"ANTALYA_HERŞEY DAHIL_HIGH\"\n",
    "agg_df[agg_df[\"saled_level_based\"] == new_user1]"
   ]
  },
  {
   "cell_type": "code",
   "execution_count": 279,
   "id": "3d87bbff-70ba-4f93-ab7b-b1a227a05cb9",
   "metadata": {},
   "outputs": [
    {
     "data": {
      "text/html": [
       "<div>\n",
       "<style scoped>\n",
       "    .dataframe tbody tr th:only-of-type {\n",
       "        vertical-align: middle;\n",
       "    }\n",
       "\n",
       "    .dataframe tbody tr th {\n",
       "        vertical-align: top;\n",
       "    }\n",
       "\n",
       "    .dataframe thead th {\n",
       "        text-align: right;\n",
       "    }\n",
       "</style>\n",
       "<table border=\"1\" class=\"dataframe\">\n",
       "  <thead>\n",
       "    <tr style=\"text-align: right;\">\n",
       "      <th></th>\n",
       "      <th>SaleCityName</th>\n",
       "      <th>ConceptName</th>\n",
       "      <th>Seasons</th>\n",
       "      <th>Price</th>\n",
       "      <th>saled_level_based</th>\n",
       "      <th>SEGMENT</th>\n",
       "    </tr>\n",
       "  </thead>\n",
       "  <tbody>\n",
       "    <tr>\n",
       "      <th>9</th>\n",
       "      <td>Antalya</td>\n",
       "      <td>Herşey Dahil</td>\n",
       "      <td>High</td>\n",
       "      <td>64.920065</td>\n",
       "      <td>ANTALYA_HERŞEY DAHIL_HIGH</td>\n",
       "      <td>B</td>\n",
       "    </tr>\n",
       "  </tbody>\n",
       "</table>\n",
       "</div>"
      ],
      "text/plain": [
       "  SaleCityName   ConceptName Seasons      Price          saled_level_based  \\\n",
       "9      Antalya  Herşey Dahil    High  64.920065  ANTALYA_HERŞEY DAHIL_HIGH   \n",
       "\n",
       "  SEGMENT  \n",
       "9       B  "
      ]
     },
     "execution_count": 279,
     "metadata": {},
     "output_type": "execute_result"
    }
   ],
   "source": [
    "new_customer1"
   ]
  },
  {
   "cell_type": "code",
   "execution_count": 275,
   "id": "cebd2743-d502-4b96-a06f-75f44a40138e",
   "metadata": {},
   "outputs": [
    {
     "data": {
      "text/html": [
       "<div>\n",
       "<style scoped>\n",
       "    .dataframe tbody tr th:only-of-type {\n",
       "        vertical-align: middle;\n",
       "    }\n",
       "\n",
       "    .dataframe tbody tr th {\n",
       "        vertical-align: top;\n",
       "    }\n",
       "\n",
       "    .dataframe thead th {\n",
       "        text-align: right;\n",
       "    }\n",
       "</style>\n",
       "<table border=\"1\" class=\"dataframe\">\n",
       "  <thead>\n",
       "    <tr style=\"text-align: right;\">\n",
       "      <th></th>\n",
       "      <th>Price</th>\n",
       "    </tr>\n",
       "  </thead>\n",
       "  <tbody>\n",
       "    <tr>\n",
       "      <th>9</th>\n",
       "      <td>64.920065</td>\n",
       "    </tr>\n",
       "  </tbody>\n",
       "</table>\n",
       "</div>"
      ],
      "text/plain": [
       "       Price\n",
       "9  64.920065"
      ]
     },
     "execution_count": 275,
     "metadata": {},
     "output_type": "execute_result"
    }
   ],
   "source": [
    "new_customer1[[\"Price\"]]"
   ]
  },
  {
   "cell_type": "code",
   "execution_count": 269,
   "id": "ee672047-ce13-46f8-9c18-a5dbc412b515",
   "metadata": {},
   "outputs": [],
   "source": [
    "new_customer2 = agg_df[(agg_df[\"SaleCityName\"] == \"Girne\") &\n",
    "                       (agg_df[\"ConceptName\"] == \"Yarım Pansiyon\") & \n",
    "                       (agg_df[\"Seasons\"] == \"Low\")]"
   ]
  },
  {
   "cell_type": "code",
   "execution_count": 293,
   "id": "d5aca00d-baf5-481e-8425-1cf2b02d20a7",
   "metadata": {},
   "outputs": [
    {
     "data": {
      "text/html": [
       "<div>\n",
       "<style scoped>\n",
       "    .dataframe tbody tr th:only-of-type {\n",
       "        vertical-align: middle;\n",
       "    }\n",
       "\n",
       "    .dataframe tbody tr th {\n",
       "        vertical-align: top;\n",
       "    }\n",
       "\n",
       "    .dataframe thead th {\n",
       "        text-align: right;\n",
       "    }\n",
       "</style>\n",
       "<table border=\"1\" class=\"dataframe\">\n",
       "  <thead>\n",
       "    <tr style=\"text-align: right;\">\n",
       "      <th></th>\n",
       "      <th>SaleCityName</th>\n",
       "      <th>ConceptName</th>\n",
       "      <th>Seasons</th>\n",
       "      <th>Price</th>\n",
       "      <th>saled_level_based</th>\n",
       "      <th>SEGMENT</th>\n",
       "    </tr>\n",
       "  </thead>\n",
       "  <tbody>\n",
       "    <tr>\n",
       "      <th>19</th>\n",
       "      <td>Girne</td>\n",
       "      <td>Yarım Pansiyon</td>\n",
       "      <td>Low</td>\n",
       "      <td>48.578903</td>\n",
       "      <td>GIRNE_YARIM PANSIYON_LOW</td>\n",
       "      <td>C</td>\n",
       "    </tr>\n",
       "  </tbody>\n",
       "</table>\n",
       "</div>"
      ],
      "text/plain": [
       "   SaleCityName     ConceptName Seasons      Price         saled_level_based  \\\n",
       "19        Girne  Yarım Pansiyon     Low  48.578903  GIRNE_YARIM PANSIYON_LOW   \n",
       "\n",
       "   SEGMENT  \n",
       "19       C  "
      ]
     },
     "execution_count": 293,
     "metadata": {},
     "output_type": "execute_result"
    }
   ],
   "source": [
    "new_user2 = \"GIRNE_YARIM PANSIYON_LOW\"\n",
    "agg_df[agg_df[\"saled_level_based\"] == new_user2]"
   ]
  },
  {
   "cell_type": "code",
   "execution_count": 281,
   "id": "0e955057-c4fc-41fe-94bb-9758971a6665",
   "metadata": {},
   "outputs": [
    {
     "data": {
      "text/html": [
       "<div>\n",
       "<style scoped>\n",
       "    .dataframe tbody tr th:only-of-type {\n",
       "        vertical-align: middle;\n",
       "    }\n",
       "\n",
       "    .dataframe tbody tr th {\n",
       "        vertical-align: top;\n",
       "    }\n",
       "\n",
       "    .dataframe thead th {\n",
       "        text-align: right;\n",
       "    }\n",
       "</style>\n",
       "<table border=\"1\" class=\"dataframe\">\n",
       "  <thead>\n",
       "    <tr style=\"text-align: right;\">\n",
       "      <th></th>\n",
       "      <th>SaleCityName</th>\n",
       "      <th>ConceptName</th>\n",
       "      <th>Seasons</th>\n",
       "      <th>Price</th>\n",
       "      <th>saled_level_based</th>\n",
       "      <th>SEGMENT</th>\n",
       "    </tr>\n",
       "  </thead>\n",
       "  <tbody>\n",
       "    <tr>\n",
       "      <th>19</th>\n",
       "      <td>Girne</td>\n",
       "      <td>Yarım Pansiyon</td>\n",
       "      <td>Low</td>\n",
       "      <td>48.578903</td>\n",
       "      <td>GIRNE_YARIM PANSIYON_LOW</td>\n",
       "      <td>C</td>\n",
       "    </tr>\n",
       "  </tbody>\n",
       "</table>\n",
       "</div>"
      ],
      "text/plain": [
       "   SaleCityName     ConceptName Seasons      Price         saled_level_based  \\\n",
       "19        Girne  Yarım Pansiyon     Low  48.578903  GIRNE_YARIM PANSIYON_LOW   \n",
       "\n",
       "   SEGMENT  \n",
       "19       C  "
      ]
     },
     "execution_count": 281,
     "metadata": {},
     "output_type": "execute_result"
    }
   ],
   "source": [
    "new_customer2"
   ]
  },
  {
   "cell_type": "code",
   "execution_count": 277,
   "id": "0228ab3c-4214-499e-bcfa-5c7be67f8e7e",
   "metadata": {},
   "outputs": [
    {
     "data": {
      "text/html": [
       "<div>\n",
       "<style scoped>\n",
       "    .dataframe tbody tr th:only-of-type {\n",
       "        vertical-align: middle;\n",
       "    }\n",
       "\n",
       "    .dataframe tbody tr th {\n",
       "        vertical-align: top;\n",
       "    }\n",
       "\n",
       "    .dataframe thead th {\n",
       "        text-align: right;\n",
       "    }\n",
       "</style>\n",
       "<table border=\"1\" class=\"dataframe\">\n",
       "  <thead>\n",
       "    <tr style=\"text-align: right;\">\n",
       "      <th></th>\n",
       "      <th>SEGMENT</th>\n",
       "    </tr>\n",
       "  </thead>\n",
       "  <tbody>\n",
       "    <tr>\n",
       "      <th>19</th>\n",
       "      <td>C</td>\n",
       "    </tr>\n",
       "  </tbody>\n",
       "</table>\n",
       "</div>"
      ],
      "text/plain": [
       "   SEGMENT\n",
       "19       C"
      ]
     },
     "execution_count": 277,
     "metadata": {},
     "output_type": "execute_result"
    }
   ],
   "source": [
    "new_customer2[[\"SEGMENT\"]]"
   ]
  }
 ],
 "metadata": {
  "kernelspec": {
   "display_name": "Python 3 (ipykernel)",
   "language": "python",
   "name": "python3"
  },
  "language_info": {
   "codemirror_mode": {
    "name": "ipython",
    "version": 3
   },
   "file_extension": ".py",
   "mimetype": "text/x-python",
   "name": "python",
   "nbconvert_exporter": "python",
   "pygments_lexer": "ipython3",
   "version": "3.12.7"
  }
 },
 "nbformat": 4,
 "nbformat_minor": 5
}
